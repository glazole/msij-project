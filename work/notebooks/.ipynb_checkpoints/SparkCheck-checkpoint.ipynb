{
 "cells": [
  {
   "cell_type": "code",
   "execution_count": 3,
   "id": "a7d57a88-58d3-4fdf-94c9-ca95f8f9cc16",
   "metadata": {},
   "outputs": [
    {
     "name": "stdout",
     "output_type": "stream",
     "text": [
      "endpoint         = http://minio:9000\n",
      "path.style       = true\n",
      "ssl              = false\n",
      "credentials prov = \n",
      "    org.apache.hadoop.fs.s3a.TemporaryAWSCredentialsProvider,\n",
      "    org.apache.hadoop.fs.s3a.SimpleAWSCredentialsProvider,\n",
      "    com.amazonaws.auth.EnvironmentVariableCredentialsProvider,\n",
      "    org.apache.hadoop.fs.s3a.auth.IAMInstanceCredentialsProvider\n",
      "  \n",
      "access.key set?  = True\n",
      "secret.key set?  = True\n"
     ]
    },
    {
     "name": "stderr",
     "output_type": "stream",
     "text": [
      "25/08/24 07:04:09 WARN MetricsConfig: Cannot locate configuration: tried hadoop-metrics2-s3a-file-system.properties,hadoop-metrics2.properties\n"
     ]
    },
    {
     "name": "stdout",
     "output_type": "stream",
     "text": [
      "\n",
      "Список в s3a://warehouse/\n",
      "- s3a://warehouse/iceberg\n"
     ]
    }
   ],
   "source": [
    "from pyspark.sql import SparkSession\n",
    "spark = SparkSession.builder.getOrCreate()\n",
    "\n",
    "# 0) Вывести ключевые S3A-настройки\n",
    "hc = spark.sparkContext._jsc.hadoopConfiguration()\n",
    "def h(key): \n",
    "    return hc.get(key)\n",
    "\n",
    "print(\"endpoint         =\", h(\"fs.s3a.endpoint\"))\n",
    "print(\"path.style       =\", h(\"fs.s3a.path.style.access\"))\n",
    "print(\"ssl              =\", h(\"fs.s3a.connection.ssl.enabled\"))\n",
    "print(\"credentials prov =\", h(\"fs.s3a.aws.credentials.provider\"))\n",
    "print(\"access.key set?  =\", bool(h(\"fs.s3a.access.key\")))\n",
    "print(\"secret.key set?  =\", bool(h(\"fs.s3a.secret.key\")))\n",
    "\n",
    "# 1) Листинг в бакете (замени при необходимости)\n",
    "BUCKET = \"s3a://warehouse/\"\n",
    "jvm = spark._jvm\n",
    "Path = jvm.org.apache.hadoop.fs.Path\n",
    "FS = jvm.org.apache.hadoop.fs.FileSystem\n",
    "uri = jvm.java.net.URI(BUCKET)\n",
    "fs = FS.get(uri, hc)\n",
    "\n",
    "print(\"\\nСписок в\", BUCKET)\n",
    "for st in fs.listStatus(Path(BUCKET)):\n",
    "    print(\"-\", st.getPath().toString())"
   ]
  },
  {
   "cell_type": "code",
   "execution_count": 4,
   "id": "f6a45797-8672-4e30-bd59-64ef98764989",
   "metadata": {},
   "outputs": [
    {
     "data": {
      "text/html": [
       "\n",
       "            <div>\n",
       "                <p><b>SparkSession - in-memory</b></p>\n",
       "                \n",
       "        <div>\n",
       "            <p><b>SparkContext</b></p>\n",
       "\n",
       "            <p><a href=\"http://jupyter:4040\">Spark UI</a></p>\n",
       "\n",
       "            <dl>\n",
       "              <dt>Version</dt>\n",
       "                <dd><code>v3.5.0</code></dd>\n",
       "              <dt>Master</dt>\n",
       "                <dd><code>spark://spark-master:7077</code></dd>\n",
       "              <dt>AppName</dt>\n",
       "                <dd><code>pyspark-shell</code></dd>\n",
       "            </dl>\n",
       "        </div>\n",
       "        \n",
       "            </div>\n",
       "        "
      ],
      "text/plain": [
       "<pyspark.sql.session.SparkSession at 0x7f6566bb7850>"
      ]
     },
     "execution_count": 4,
     "metadata": {},
     "output_type": "execute_result"
    }
   ],
   "source": [
    "spark"
   ]
  },
  {
   "cell_type": "code",
   "execution_count": 6,
   "id": "878284a3-021f-4c0a-8e9c-91b98d4d595c",
   "metadata": {},
   "outputs": [
    {
     "name": "stdout",
     "output_type": "stream",
     "text": [
      "Проверяем наличие s3a://warehouse/iceberg/bronze/crpt_2025_raw/metadata\n",
      "metadata/ exists: True\n"
     ]
    },
    {
     "name": "stderr",
     "output_type": "stream",
     "text": [
      "                                                                                "
     ]
    },
    {
     "name": "stdout",
     "output_type": "stream",
     "text": [
      "+------+----------+-----+------------------------+-------------+------+-----------------+---------------------+----------------------------------+-----------+---------------------+-------------------------+-------------------+---------------------+-----------------------+\n",
      "|Неделя|Год недели|Месяц|Тип эмиссии             |gtin         |Серия |ИНН производителя|ИНН вывода из оборота|Идентификатор МД вывода из оборота|Тип выбытия|Тип вывода из оборота|Выведено кодов маркировки|Выведено, руб с НДС|Выведено, руб без НДС|Источник финансирования|\n",
      "+------+----------+-----+------------------------+-------------+------+-----------------+---------------------+----------------------------------+-----------+---------------------+-------------------------+-------------------+---------------------+-----------------------+\n",
      "|10    |2025      |3    |Иностранное производство|3838989758257|LA3080|SI82646716       |5405074320           |00000000496491                    |Продажа    |NULL                 |1                        |340.28             |309.35               |собственный бюджет     |\n",
      "|10    |2025      |3    |Иностранное производство|3838989758257|LA3080|SI82646716       |7709068298           |00000000514763                    |Продажа    |NULL                 |1                        |340.28             |309.35               |собственный бюджет     |\n",
      "|10    |2025      |3    |Иностранное производство|3838989758257|LA3080|SI82646716       |9102199977           |00000000458185                    |Продажа    |NULL                 |1                        |340.28             |309.35               |собственный бюджет     |\n",
      "|10    |2025      |3    |Иностранное производство|3838989758257|LA3080|SI82646716       |7705947629           |00000000249376                    |Продажа    |NULL                 |1                        |340.28             |309.35               |собственный бюджет     |\n",
      "|10    |2025      |3    |Иностранное производство|3838989758257|LA3080|SI82646716       |2543023195           |00000000502155                    |Продажа    |NULL                 |1                        |340.28             |309.35               |собственный бюджет     |\n",
      "+------+----------+-----+------------------------+-------------+------+-----------------+---------------------+----------------------------------+-----------+---------------------+-------------------------+-------------------+---------------------+-----------------------+\n",
      "\n"
     ]
    }
   ],
   "source": [
    "TABLE_PATH = \"s3a://warehouse/iceberg/bronze/crpt_2025_raw\"\n",
    "meta = f\"{TABLE_PATH}/metadata\"\n",
    "\n",
    "# 1) Есть ли metadata/ — признак таблицы Iceberg\n",
    "print(\"Проверяем наличие\", meta)\n",
    "exists = fs.exists(Path(meta))\n",
    "print(\"metadata/ exists:\", bool(exists))\n",
    "\n",
    "# 2) Быстрое чтение 5 строк\n",
    "df = spark.read.format(\"iceberg\").load(TABLE_PATH)\n",
    "df.limit(5).show(truncate=False)"
   ]
  },
  {
   "cell_type": "code",
   "execution_count": 11,
   "id": "861e8c1f-e5a7-4c5d-a984-96c08a720752",
   "metadata": {},
   "outputs": [
    {
     "name": "stdout",
     "output_type": "stream",
     "text": [
      "+---------+\n",
      "|namespace|\n",
      "+---------+\n",
      "|bronze   |\n",
      "+---------+\n",
      "\n",
      "+---------+-------------+-----------+\n",
      "|namespace|tableName    |isTemporary|\n",
      "+---------+-------------+-----------+\n",
      "|bronze   |crpt_2025_raw|false      |\n",
      "|bronze   |crpt_load_log|false      |\n",
      "+---------+-------------+-----------+\n",
      "\n",
      "+------+----------+-----+------------------------+-------------+------+-----------------+---------------------+----------------------------------+-----------+---------------------+-------------------------+-------------------+---------------------+-----------------------+\n",
      "|Неделя|Год недели|Месяц|Тип эмиссии             |gtin         |Серия |ИНН производителя|ИНН вывода из оборота|Идентификатор МД вывода из оборота|Тип выбытия|Тип вывода из оборота|Выведено кодов маркировки|Выведено, руб с НДС|Выведено, руб без НДС|Источник финансирования|\n",
      "+------+----------+-----+------------------------+-------------+------+-----------------+---------------------+----------------------------------+-----------+---------------------+-------------------------+-------------------+---------------------+-----------------------+\n",
      "|20    |2025      |5    |Иностранное производство|3664798027310|4NG412|7705018169       |2310212231           |00000000495710                    |Продажа    |NULL                 |1                        |65.07              |58.56                |собственный бюджет     |\n",
      "|20    |2025      |5    |Иностранное производство|3664798027310|4NG412|7705018169       |6722021924           |00000000234412                    |Продажа    |NULL                 |1                        |65.07              |58.56                |собственный бюджет     |\n",
      "|20    |2025      |5    |Иностранное производство|3664798027310|4NG412|7705018169       |4027000076           |00000000200077                    |Продажа    |NULL                 |2                        |130.14             |117.12               |собственный бюджет     |\n",
      "|20    |2025      |5    |Иностранное производство|3664798027310|4NG412|7705018169       |7411013070           |00000000209364                    |Продажа    |NULL                 |1                        |65.07              |58.56                |собственный бюджет     |\n",
      "|20    |2025      |5    |Иностранное производство|3664798027310|4NG412|7705018169       |224901362837         |00000000552491                    |Продажа    |NULL                 |1                        |65.07              |58.56                |собственный бюджет     |\n",
      "+------+----------+-----+------------------------+-------------+------+-----------------+---------------------+----------------------------------+-----------+---------------------+-------------------------+-------------------+---------------------+-----------------------+\n",
      "\n"
     ]
    }
   ],
   "source": [
    "# структура: s3a://warehouse/iceberg/bronze/crpt_2025_raw\n",
    "spark.sql(\"SHOW NAMESPACES IN ice\").show(truncate=False)\n",
    "spark.sql(\"SHOW TABLES IN ice.bronze\").show(truncate=False)\n",
    "spark.table(\"ice.bronze.crpt_2025_raw\").limit(5).show(truncate=False)"
   ]
  },
  {
   "cell_type": "code",
   "execution_count": 8,
   "id": "8c3ff8cc-40b2-4577-84a0-57ca288fe8fa",
   "metadata": {},
   "outputs": [
    {
     "name": "stdout",
     "output_type": "stream",
     "text": [
      "+-------------------+-----------------------+---------+\n",
      "|snapshot_id        |committed_at           |operation|\n",
      "+-------------------+-----------------------+---------+\n",
      "|8012012217108634249|2025-08-23 23:42:42.169|append   |\n",
      "|3629424066847997642|2025-08-23 23:39:31.663|append   |\n",
      "|484499927572824358 |2025-08-23 23:36:44.261|append   |\n",
      "|2286615430862358207|2025-08-23 23:33:46.991|append   |\n",
      "|2473604785124089023|2025-08-23 23:32:10.965|append   |\n",
      "|211446294242441037 |2025-08-23 23:29:11.883|append   |\n",
      "|3466752973977639435|2025-08-23 23:26:29.18 |append   |\n",
      "|285044371247057607 |2025-08-23 23:24:05.869|append   |\n",
      "|6890475041206907799|2025-08-23 23:21:43.235|append   |\n",
      "|2031417170101462200|2025-08-23 23:19:00.752|append   |\n",
      "|1133908811693098057|2025-08-23 23:16:32.812|append   |\n",
      "|4140667713898054888|2025-08-23 23:14:08.148|append   |\n",
      "|4213941939151711478|2025-08-23 23:11:27.243|append   |\n",
      "|5009047799226429782|2025-08-23 23:09:00.867|append   |\n",
      "|452598316202781071 |2025-08-23 23:06:29.287|append   |\n",
      "|6044330513762708919|2025-08-23 23:04:05.214|append   |\n",
      "|718860765604460475 |2025-08-23 23:01:37.621|append   |\n",
      "|6480430267017342660|2025-08-23 22:59:01.5  |append   |\n",
      "|6364148540283613073|2025-08-23 22:56:27.347|append   |\n",
      "|1302904395755270699|2025-08-23 22:53:44.776|append   |\n",
      "+-------------------+-----------------------+---------+\n",
      "only showing top 20 rows\n",
      "\n"
     ]
    }
   ],
   "source": [
    "# Снапшоты и файлы (работает и по каталожному имени, и по полному имени)\n",
    "tbl = \"ice.bronze.crpt_2025_raw\"\n",
    "spark.sql(f\"SELECT snapshot_id, committed_at, operation FROM {tbl}.snapshots ORDER BY committed_at DESC\").show(truncate=False)"
   ]
  },
  {
   "cell_type": "code",
   "execution_count": 9,
   "id": "1bb72f8c-e9c9-4050-8d4d-9d6c80c25584",
   "metadata": {},
   "outputs": [
    {
     "name": "stdout",
     "output_type": "stream",
     "text": [
      "+----------+----------+\n",
      "|data_files|size_bytes|\n",
      "+----------+----------+\n",
      "|      2344|9543587350|\n",
      "+----------+----------+\n",
      "\n"
     ]
    },
    {
     "name": "stderr",
     "output_type": "stream",
     "text": [
      "                                                                                "
     ]
    }
   ],
   "source": [
    "spark.sql(f\"SELECT count(*) AS data_files, sum(file_size_in_bytes) AS size_bytes FROM {tbl}.files\").show()"
   ]
  },
  {
   "cell_type": "code",
   "execution_count": null,
   "id": "9d1276ff-cc42-4841-aff7-b7c7c70e243f",
   "metadata": {},
   "outputs": [],
   "source": []
  },
  {
   "cell_type": "code",
   "execution_count": 13,
   "id": "dcc51bbb-ba8f-443a-a76e-68e3a397c05a",
   "metadata": {},
   "outputs": [
    {
     "name": "stderr",
     "output_type": "stream",
     "text": [
      "25/08/24 07:23:23 WARN DataSource: All paths were ignored:                      \n",
      "  s3a://raw/_connect_test_1756020199_8196\n"
     ]
    },
    {
     "name": "stdout",
     "output_type": "stream",
     "text": [
      "Записали в: s3a://raw/_connect_test_1756020199_8196\n",
      "Прочитали обратно, count = 3\n",
      "Удалили? True\n"
     ]
    }
   ],
   "source": [
    "spark.stop()\n",
    "spark = SparkSession.builder.getOrCreate()\n",
    "\n",
    "hc  = spark.sparkContext._jsc.hadoopConfiguration()\n",
    "jvm = spark._jvm\n",
    "Path = jvm.org.apache.hadoop.fs.Path\n",
    "FS   = jvm.org.apache.hadoop.fs.FileSystem\n",
    "\n",
    "def fs_for(uri_str: str):\n",
    "    return FS.get(jvm.java.net.URI(uri_str), hc)\n",
    "\n",
    "# выбери бакет, куда тестируешь запись\n",
    "TEST_DIR = \"s3a://raw/_connect_test\"\n",
    "# TEST_DIR = \"s3a://warehouse/_connect_test\"  # альтернативно\n",
    "\n",
    "# 1) запись\n",
    "import time, random\n",
    "TEST_DIR = f\"{TEST_DIR}_{int(time.time())}_{random.randint(0,9999)}\"\n",
    "spark.range(3).write.mode(\"overwrite\").parquet(TEST_DIR)\n",
    "print(\"Записали в:\", TEST_DIR)\n",
    "\n",
    "# 2) чтение\n",
    "df = spark.read.parquet(TEST_DIR)\n",
    "print(\"Прочитали обратно, count =\", df.count())\n",
    "\n",
    "# 3) удаление тем же FS, из того же бакета\n",
    "fs = fs_for(TEST_DIR)              # <— ВАЖНО: FS для этого URI\n",
    "ok = fs.delete(Path(TEST_DIR), True)\n",
    "print(\"Удалили?\", bool(ok))\n"
   ]
  },
  {
   "cell_type": "code",
   "execution_count": 14,
   "id": "73027409-af91-4905-ae78-149a7300decb",
   "metadata": {},
   "outputs": [
    {
     "name": "stdout",
     "output_type": "stream",
     "text": [
      "defaultCatalog = ice\n",
      "+---------+\n",
      "|namespace|\n",
      "+---------+\n",
      "|bronze   |\n",
      "+---------+\n",
      "\n"
     ]
    },
    {
     "name": "stderr",
     "output_type": "stream",
     "text": [
      "                                                                                "
     ]
    },
    {
     "name": "stdout",
     "output_type": "stream",
     "text": [
      "count = 10\n",
      "+-------------------+-----------------------+---------+\n",
      "|snapshot_id        |committed_at           |operation|\n",
      "+-------------------+-----------------------+---------+\n",
      "|8674144843526871029|2025-08-24 07:27:21.417|append   |\n",
      "+-------------------+-----------------------+---------+\n",
      "\n"
     ]
    },
    {
     "data": {
      "text/plain": [
       "DataFrame[]"
      ]
     },
     "execution_count": 14,
     "metadata": {},
     "output_type": "execute_result"
    }
   ],
   "source": [
    "# Проверим, что виден каталог и неймспейсы\n",
    "print(\"defaultCatalog =\", spark.conf.get(\"spark.sql.defaultCatalog\"))\n",
    "spark.sql(\"SHOW NAMESPACES IN ice\").show(truncate=False)\n",
    "\n",
    "# Создадим неймспейс и тестовую таблицу — проверим запись коммитов Iceberg\n",
    "spark.sql(\"CREATE NAMESPACE IF NOT EXISTS ice.tmp\")\n",
    "spark.sql(\"DROP TABLE IF EXISTS ice.tmp.__ctest\")\n",
    "\n",
    "spark.sql(\"\"\"\n",
    "  CREATE TABLE ice.tmp.__ctest (id BIGINT)\n",
    "  USING iceberg\n",
    "  PARTITIONED BY (bucket(8, id))\n",
    "\"\"\")\n",
    "spark.sql(\"INSERT INTO ice.tmp.__ctest SELECT id FROM range(0, 10)\")\n",
    "\n",
    "print(\"count =\", spark.table(\"ice.tmp.__ctest\").count())\n",
    "spark.sql(\"SELECT snapshot_id, committed_at, operation FROM ice.tmp.__ctest.snapshots ORDER BY committed_at DESC\").show(truncate=False)\n",
    "\n",
    "# Чисто — можно удалить\n",
    "spark.sql(\"DROP TABLE ice.tmp.__ctest\")"
   ]
  },
  {
   "cell_type": "code",
   "execution_count": 15,
   "id": "0b6d1f04-74f2-4dab-a750-3a9af005a185",
   "metadata": {},
   "outputs": [
    {
     "name": "stdout",
     "output_type": "stream",
     "text": [
      "+---------+-------------+-----------+\n",
      "|namespace|tableName    |isTemporary|\n",
      "+---------+-------------+-----------+\n",
      "|bronze   |crpt_2025_raw|false      |\n",
      "|bronze   |crpt_load_log|false      |\n",
      "+---------+-------------+-----------+\n",
      "\n",
      "+------+----------+-----+------------------------+-------------+------+-----------------+---------------------+----------------------------------+-----------------------------------------------------+---------------------+-------------------------+-------------------+---------------------+-----------------------+\n",
      "|Неделя|Год недели|Месяц|Тип эмиссии             |gtin         |Серия |ИНН производителя|ИНН вывода из оборота|Идентификатор МД вывода из оборота|Тип выбытия                                          |Тип вывода из оборота|Выведено кодов маркировки|Выведено, руб с НДС|Выведено, руб без НДС|Источник финансирования|\n",
      "+------+----------+-----+------------------------+-------------+------+-----------------+---------------------+----------------------------------+-----------------------------------------------------+---------------------+-------------------------+-------------------+---------------------+-----------------------+\n",
      "|23    |2025      |6    |Собственное производство|4601669002563|690324|4631002737       |7718280244           |00000000444737                    |Агентская продажа, в том числе дистанционная торговля|NULL                 |1                        |34.91              |31.74                |собственный бюджет     |\n",
      "|23    |2025      |6    |Собственное производство|4601669002563|690324|4631002737       |4345294260           |00000000476038                    |Продажа                                              |NULL                 |7                        |244.37             |222.18               |собственный бюджет     |\n",
      "|23    |2025      |6    |Собственное производство|4601669002563|690324|4631002737       |5502039191           |00000000461620                    |Продажа                                              |NULL                 |4                        |139.64             |126.96               |собственный бюджет     |\n",
      "|23    |2025      |6    |Собственное производство|4601669002563|690324|4631002737       |3820011083           |00000000177983                    |Продажа                                              |NULL                 |3                        |104.73             |95.22                |собственный бюджет     |\n",
      "|23    |2025      |6    |Собственное производство|4601669002563|690324|4631002737       |3666191191           |00000000469075                    |Агентская продажа, в том числе дистанционная торговля|NULL                 |1                        |34.91              |31.74                |собственный бюджет     |\n",
      "+------+----------+-----+------------------------+-------------+------+-----------------+---------------------+----------------------------------+-----------------------------------------------------+---------------------+-------------------------+-------------------+---------------------+-----------------------+\n",
      "\n",
      "+------+----------+-----+------------------------+-------------+-------+-----------------+---------------------+----------------------------------+-----------------------------------------------------+---------------------+-------------------------+-------------------+---------------------+-----------------------+\n",
      "|Неделя|Год недели|Месяц|Тип эмиссии             |gtin         |Серия  |ИНН производителя|ИНН вывода из оборота|Идентификатор МД вывода из оборота|Тип выбытия                                          |Тип вывода из оборота|Выведено кодов маркировки|Выведено, руб с НДС|Выведено, руб без НДС|Источник финансирования|\n",
      "+------+----------+-----+------------------------+-------------+-------+-----------------+---------------------+----------------------------------+-----------------------------------------------------+---------------------+-------------------------+-------------------+---------------------+-----------------------+\n",
      "|7     |2025      |2    |Собственное производство|4602884010326|4690724|5834001025       |2130157743           |00000000464825                    |Продажа                                              |NULL                 |1                        |90.98              |82.71                |собственный бюджет     |\n",
      "|7     |2025      |2    |Собственное производство|4602884010326|4690724|5834001025       |6315661541           |00000000537497                    |Продажа                                              |NULL                 |1                        |90.98              |82.71                |собственный бюджет     |\n",
      "|7     |2025      |2    |Собственное производство|4602884010326|4690724|5834001025       |6315640446           |00000000458491                    |Продажа                                              |NULL                 |1                        |90.98              |82.71                |собственный бюджет     |\n",
      "|7     |2025      |2    |Собственное производство|4602884010326|4690724|5834001025       |4029056074           |00000000523552                    |Продажа                                              |NULL                 |2                        |181.96             |165.42               |собственный бюджет     |\n",
      "|7     |2025      |2    |Собственное производство|4602884010326|4690724|5834001025       |6165210709           |00000000480108                    |Агентская продажа, в том числе дистанционная торговля|NULL                 |1                        |90.98              |82.71                |собственный бюджет     |\n",
      "+------+----------+-----+------------------------+-------------+-------+-----------------+---------------------+----------------------------------+-----------------------------------------------------+---------------------+-------------------------+-------------------+---------------------+-----------------------+\n",
      "\n",
      "+--------+--------------------------------------------+-------+\n",
      "|col_name|data_type                                   |comment|\n",
      "+--------+--------------------------------------------+-------+\n",
      "|Location|s3a://warehouse/iceberg/bronze/crpt_2025_raw|       |\n",
      "+--------+--------------------------------------------+-------+\n",
      "\n"
     ]
    }
   ],
   "source": [
    "spark.sql(\"SHOW TABLES IN ice.bronze\").show(truncate=False)\n",
    "spark.table(\"ice.bronze.crpt_2025_raw\").limit(5).show(truncate=False)\n",
    "# т.к. defaultCatalog=ice, можно писать короче:\n",
    "spark.table(\"bronze.crpt_2025_raw\").limit(5).show(truncate=False)\n",
    "\n",
    "# Расположение\n",
    "spark.sql(\"DESCRIBE TABLE EXTENDED bronze.crpt_2025_raw\").where(\"col_name='Location'\").show(truncate=False)"
   ]
  },
  {
   "cell_type": "code",
   "execution_count": 16,
   "id": "e22b0f9f-4b61-442f-92e9-f448b9a75797",
   "metadata": {},
   "outputs": [
    {
     "name": "stdout",
     "output_type": "stream",
     "text": [
      "+-------------------+-----------------------+---------+\n",
      "|snapshot_id        |committed_at           |operation|\n",
      "+-------------------+-----------------------+---------+\n",
      "|8012012217108634249|2025-08-23 23:42:42.169|append   |\n",
      "|3629424066847997642|2025-08-23 23:39:31.663|append   |\n",
      "|484499927572824358 |2025-08-23 23:36:44.261|append   |\n",
      "|2286615430862358207|2025-08-23 23:33:46.991|append   |\n",
      "|2473604785124089023|2025-08-23 23:32:10.965|append   |\n",
      "|211446294242441037 |2025-08-23 23:29:11.883|append   |\n",
      "|3466752973977639435|2025-08-23 23:26:29.18 |append   |\n",
      "|285044371247057607 |2025-08-23 23:24:05.869|append   |\n",
      "|6890475041206907799|2025-08-23 23:21:43.235|append   |\n",
      "|2031417170101462200|2025-08-23 23:19:00.752|append   |\n",
      "|1133908811693098057|2025-08-23 23:16:32.812|append   |\n",
      "|4140667713898054888|2025-08-23 23:14:08.148|append   |\n",
      "|4213941939151711478|2025-08-23 23:11:27.243|append   |\n",
      "|5009047799226429782|2025-08-23 23:09:00.867|append   |\n",
      "|452598316202781071 |2025-08-23 23:06:29.287|append   |\n",
      "|6044330513762708919|2025-08-23 23:04:05.214|append   |\n",
      "|718860765604460475 |2025-08-23 23:01:37.621|append   |\n",
      "|6480430267017342660|2025-08-23 22:59:01.5  |append   |\n",
      "|6364148540283613073|2025-08-23 22:56:27.347|append   |\n",
      "|1302904395755270699|2025-08-23 22:53:44.776|append   |\n",
      "+-------------------+-----------------------+---------+\n",
      "only showing top 20 rows\n",
      "\n",
      "+-------+------------+------------------+-----------------------------------------------------------------------------------------------------------------+\n",
      "|content|record_count|file_size_in_bytes|file_path                                                                                                        |\n",
      "+-------+------------+------------------+-----------------------------------------------------------------------------------------------------------------+\n",
      "|0      |677755      |5491804           |s3a://warehouse/iceberg/bronze/crpt_2025_raw/data/00042-4359-c984a7a2-a33d-401d-8a00-ca6dbe069743-0-00001.parquet|\n",
      "|0      |678803      |5310297           |s3a://warehouse/iceberg/bronze/crpt_2025_raw/data/00064-3930-b3112677-8017-42c6-9d18-70e27d7303c8-0-00001.parquet|\n",
      "|0      |681285      |5234331           |s3a://warehouse/iceberg/bronze/crpt_2025_raw/data/00064-1014-404aebde-232a-43a2-b1ac-25e389a57d7a-0-00001.parquet|\n",
      "|0      |675854      |5216966           |s3a://warehouse/iceberg/bronze/crpt_2025_raw/data/00038-610-0cc11af4-3524-494c-8b5c-aaab47765e3c-0-00001.parquet |\n",
      "|0      |670592      |5123189           |s3a://warehouse/iceberg/bronze/crpt_2025_raw/data/00082-4574-a112299c-870a-4e9e-a927-a78c1bd7b736-0-00001.parquet|\n",
      "|0      |677203      |5053342           |s3a://warehouse/iceberg/bronze/crpt_2025_raw/data/00013-3879-b3112677-8017-42c6-9d18-70e27d7303c8-0-00001.parquet|\n",
      "|0      |672151      |4980729           |s3a://warehouse/iceberg/bronze/crpt_2025_raw/data/00078-1028-404aebde-232a-43a2-b1ac-25e389a57d7a-0-00001.parquet|\n",
      "|0      |675202      |4978694           |s3a://warehouse/iceberg/bronze/crpt_2025_raw/data/00063-4380-c984a7a2-a33d-401d-8a00-ca6dbe069743-0-00001.parquet|\n",
      "|0      |675026      |4964978           |s3a://warehouse/iceberg/bronze/crpt_2025_raw/data/00072-2726-dda3c5ec-27a4-4149-8ad3-ceaa18c3c7d6-0-00001.parquet|\n",
      "|0      |678092      |4951091           |s3a://warehouse/iceberg/bronze/crpt_2025_raw/data/00030-3287-2a6f25a7-442a-490b-8a28-7772ac56ca9e-0-00001.parquet|\n",
      "|0      |680461      |4939277           |s3a://warehouse/iceberg/bronze/crpt_2025_raw/data/00052-3465-bdc4dbc7-915b-47ae-bb1d-53a234b29538-0-00001.parquet|\n",
      "|0      |677498      |4897387           |s3a://warehouse/iceberg/bronze/crpt_2025_raw/data/00052-1002-404aebde-232a-43a2-b1ac-25e389a57d7a-0-00001.parquet|\n",
      "|0      |675762      |4893902           |s3a://warehouse/iceberg/bronze/crpt_2025_raw/data/00078-4570-a112299c-870a-4e9e-a927-a78c1bd7b736-0-00001.parquet|\n",
      "|0      |668952      |4874473           |s3a://warehouse/iceberg/bronze/crpt_2025_raw/data/00071-2725-dda3c5ec-27a4-4149-8ad3-ceaa18c3c7d6-0-00001.parquet|\n",
      "|0      |670368      |4857769           |s3a://warehouse/iceberg/bronze/crpt_2025_raw/data/00039-3296-2a6f25a7-442a-490b-8a28-7772ac56ca9e-0-00001.parquet|\n",
      "|0      |668752      |4846980           |s3a://warehouse/iceberg/bronze/crpt_2025_raw/data/00075-1187-962e1dae-861e-4036-b6c2-bfac5f1cf9b5-0-00001.parquet|\n",
      "|0      |669930      |4846540           |s3a://warehouse/iceberg/bronze/crpt_2025_raw/data/00043-1936-656cc718-67a0-47bd-bbef-2c5282524a8a-0-00001.parquet|\n",
      "|0      |676176      |4834409           |s3a://warehouse/iceberg/bronze/crpt_2025_raw/data/00047-1159-962e1dae-861e-4036-b6c2-bfac5f1cf9b5-0-00001.parquet|\n",
      "|0      |671556      |4828508           |s3a://warehouse/iceberg/bronze/crpt_2025_raw/data/00036-1308-7547a092-7db0-4479-8c32-c8662880ee5f-0-00001.parquet|\n",
      "|0      |672963      |4815872           |s3a://warehouse/iceberg/bronze/crpt_2025_raw/data/00051-3464-bdc4dbc7-915b-47ae-bb1d-53a234b29538-0-00001.parquet|\n",
      "+-------+------------+------------------+-----------------------------------------------------------------------------------------------------------------+\n",
      "\n"
     ]
    }
   ],
   "source": [
    "# Снапшоты\n",
    "spark.sql(\"SELECT snapshot_id, committed_at, operation FROM bronze.crpt_2025_raw.snapshots ORDER BY committed_at DESC\").show(truncate=False)\n",
    "\n",
    "# Файлы (понять масштаб/партиции)\n",
    "spark.sql(\"\"\"\n",
    "  SELECT content, record_count, file_size_in_bytes, file_path\n",
    "  FROM bronze.crpt_2025_raw.files\n",
    "  ORDER BY file_size_in_bytes DESC\n",
    "  LIMIT 20\n",
    "\"\"\").show(truncate=False)"
   ]
  },
  {
   "cell_type": "code",
   "execution_count": 17,
   "id": "05e3db30-1e06-4228-ac36-5130bc97b1df",
   "metadata": {},
   "outputs": [
    {
     "name": "stdout",
     "output_type": "stream",
     "text": [
      "+---------------+--------------------------+\n",
      "|zip_name       |loaded_at                 |\n",
      "+---------------+--------------------------+\n",
      "|2025_19.csv.zip|2025-08-23 22:51:16.794433|\n",
      "|2025_1.csv.zip |2025-08-23 22:25:27.292049|\n",
      "|2025_26.csv.zip|2025-08-23 23:11:27.321692|\n",
      "|2025_6.csv.zip |2025-08-23 23:33:47.076412|\n",
      "|2025_30.csv.zip|2025-08-23 23:24:05.941055|\n",
      "|2025_25.csv.zip|2025-08-23 23:09:00.946394|\n",
      "|2025_2.csv.zip |2025-08-23 22:53:44.859   |\n",
      "|2025_7.csv.zip |2025-08-23 23:36:44.350645|\n",
      "|2025_29.csv.zip|2025-08-23 23:19:00.82884 |\n",
      "|2025_22.csv.zip|2025-08-23 23:01:37.702308|\n",
      "|2025_20.csv.zip|2025-08-23 22:56:27.43579 |\n",
      "|2025_13.csv.zip|2025-08-23 22:34:52.515156|\n",
      "|2025_18.csv.zip|2025-08-23 22:48:48.784363|\n",
      "|2025_24.csv.zip|2025-08-23 23:06:29.366374|\n",
      "|2025_10.csv.zip|2025-08-23 22:28:20.401748|\n",
      "|2025_4.csv.zip |2025-08-23 23:29:11.971912|\n",
      "|2025_16.csv.zip|2025-08-23 22:43:16.186677|\n",
      "|2025_12.csv.zip|2025-08-23 22:34:17.600667|\n",
      "|2025_23.csv.zip|2025-08-23 23:04:05.300402|\n",
      "|2025_5.csv.zip |2025-08-23 23:32:11.058604|\n",
      "+---------------+--------------------------+\n",
      "only showing top 20 rows\n",
      "\n"
     ]
    }
   ],
   "source": [
    "spark.table(\"ice.bronze.crpt_load_log\").show(truncate=False)"
   ]
  },
  {
   "cell_type": "code",
   "execution_count": 18,
   "id": "79f114e7-0862-44fc-a05c-d6b6486e5ca9",
   "metadata": {},
   "outputs": [
    {
     "name": "stdout",
     "output_type": "stream",
     "text": [
      "+----------+\n",
      "|total_rows|\n",
      "+----------+\n",
      "|1574418370|\n",
      "+----------+\n",
      "\n"
     ]
    }
   ],
   "source": [
    "spark.sql(\"\"\"\n",
    "SELECT CAST(summary['total-records'] AS BIGINT) AS total_rows\n",
    "FROM bronze.crpt_2025_raw.snapshots\n",
    "ORDER BY committed_at DESC\n",
    "LIMIT 1\n",
    "\"\"\").show()"
   ]
  },
  {
   "cell_type": "code",
   "execution_count": 20,
   "id": "971a993e-d2b7-4ada-b10b-8f7a1b880b42",
   "metadata": {},
   "outputs": [
    {
     "name": "stdout",
     "output_type": "stream",
     "text": [
      "+----------+\n",
      "|total_rows|\n",
      "+----------+\n",
      "|        31|\n",
      "+----------+\n",
      "\n"
     ]
    }
   ],
   "source": [
    "spark.sql(\"\"\"\n",
    "SELECT CAST(summary['total-records'] AS BIGINT) AS total_rows\n",
    "FROM bronze.crpt_load_log.snapshots\n",
    "ORDER BY committed_at DESC\n",
    "LIMIT 1\n",
    "\"\"\").show()"
   ]
  }
 ],
 "metadata": {
  "kernelspec": {
   "display_name": "Python 3 (ipykernel)",
   "language": "python",
   "name": "python3"
  },
  "language_info": {
   "codemirror_mode": {
    "name": "ipython",
    "version": 3
   },
   "file_extension": ".py",
   "mimetype": "text/x-python",
   "name": "python",
   "nbconvert_exporter": "python",
   "pygments_lexer": "ipython3",
   "version": "3.11.8"
  }
 },
 "nbformat": 4,
 "nbformat_minor": 5
}
